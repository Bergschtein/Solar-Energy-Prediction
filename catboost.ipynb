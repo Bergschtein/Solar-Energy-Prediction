{
 "cells": [
  {
   "cell_type": "code",
   "execution_count": 841,
   "metadata": {},
   "outputs": [],
   "source": [
    "#Import necessary libs\n",
    "import os\n",
    "import pandas as pd\n",
    "import numpy as np\n",
    "import matplotlib.pylab as plt\n",
    "import seaborn as sns #For heatmap\n",
    "from sklearn.model_selection import train_test_split\n",
    "from sklearn.metrics import mean_absolute_error\n",
    "from sklearn import preprocessing\n",
    "\n",
    "import catboost as cb\n",
    "%matplotlib inline\n",
    "\n",
    "pd.set_option('display.max_rows', 200)\n",
    "pd.set_option('display.max_columns', 200)"
   ]
  },
  {
   "cell_type": "code",
   "execution_count": 842,
   "metadata": {},
   "outputs": [],
   "source": [
    "def to_hourly(df):\n",
    "    df['date_forecast']\n",
    "    df.set_index('date_forecast', inplace=True)\n",
    "    df = df.resample('H').mean()\n",
    "    df.reset_index(inplace=True)\n",
    "    return df"
   ]
  },
  {
   "cell_type": "markdown",
   "metadata": {},
   "source": [
    "# ToDo \n",
    "\n",
    "- Normalize features. How do we handle the nans??"
   ]
  },
  {
   "cell_type": "markdown",
   "metadata": {},
   "source": [
    "### Loading all data given and resampling to hourly measurements by mean"
   ]
  },
  {
   "cell_type": "code",
   "execution_count": 843,
   "metadata": {},
   "outputs": [],
   "source": [
    "# Train target for each location:\n",
    "train_a = pd.read_parquet('data/A/train_targets.parquet')\n",
    "train_b = pd.read_parquet('data/B/train_targets.parquet')\n",
    "train_c = pd.read_parquet('data/C/train_targets.parquet')\n",
    "\n",
    "\n",
    "# Estimated training data for each location\n",
    "X_train_estimated_a = to_hourly(pd.read_parquet('data/A/X_train_estimated.parquet'))\n",
    "X_train_estimated_b = to_hourly(pd.read_parquet('data/B/X_train_estimated.parquet'))\n",
    "X_train_estimated_c = to_hourly(pd.read_parquet('data/C/X_train_estimated.parquet'))\n",
    "\n",
    "\n",
    "\n",
    "# Observed training data for each location\n",
    "X_train_observed_a = to_hourly(pd.read_parquet('data/A/X_train_observed.parquet'))\n",
    "X_train_observed_b = to_hourly(pd.read_parquet('data/B/X_train_observed.parquet'))\n",
    "X_train_observed_c = to_hourly(pd.read_parquet('data/C/X_train_observed.parquet'))\n",
    "\n",
    "\n",
    "\n",
    "# Estimated test data for each location\n",
    "X_test_estimated_a = to_hourly(pd.read_parquet('data/A/X_test_estimated.parquet'))\n",
    "X_test_estimated_b = to_hourly(pd.read_parquet('data/B/X_test_estimated.parquet'))\n",
    "X_test_estimated_c = to_hourly(pd.read_parquet('data/C/X_test_estimated.parquet'))\n",
    "\n",
    "#Remove nan rows \n",
    "X_test_estimated_a = X_test_estimated_a.dropna(subset = ['date_calc'] ,how = 'all')\n",
    "X_test_estimated_b = X_test_estimated_b.dropna(subset = ['date_calc'] ,how = 'all')\n",
    "X_test_estimated_c = X_test_estimated_c.dropna(subset = ['date_calc'] ,how = 'all')\n",
    "\n"
   ]
  },
  {
   "cell_type": "code",
   "execution_count": 844,
   "metadata": {},
   "outputs": [],
   "source": [
    "subset_select = True #Select subset of features based on list below\n",
    "location = True #add categorical location feature\n",
    "type = False #add categorical type feature (estimated or observed)\n",
    "\n",
    "\n",
    "selected_features_obs = [\n",
    "    'time',\n",
    "    'clear_sky_energy_1h:J',\n",
    "    'effective_cloud_cover:p',\n",
    "]\n",
    "# selected_features_est = [\n",
    "#     'time',\n",
    "#     'type',\n",
    "#     'location',\n",
    "#     'clear_sky_energy_1h:J',\n",
    "#     'effective_cloud_cover:p',\n",
    "#     'is_day:idx', # Need to make categorical if it is included\n",
    "#     't_1000hPa:K'\n",
    "# ]"
   ]
  },
  {
   "cell_type": "markdown",
   "metadata": {},
   "source": [
    "### Helper functions to tidy up and prepare for fit"
   ]
  },
  {
   "cell_type": "code",
   "execution_count": 845,
   "metadata": {},
   "outputs": [],
   "source": [
    "def add_type(data, type):\n",
    "    data['type'] = [type] * len(data)\n",
    "    data['type'] = data['type'].astype('category')\n",
    "\n",
    "def combine_obs_est(est, obs, lable = False):\n",
    "    \"\"\"\n",
    "    Concatinates the estimated and observed data. \n",
    "    Adds a categorical variable \"type\": \"obs\" for observed and \"est\" for estimated if lable = True.\n",
    "    Removes data_calc from est.\n",
    "    \"\"\"\n",
    "    if lable:\n",
    "        add_type(est, 'est')\n",
    "        add_type(obs, 'obs')\n",
    "    \n",
    "    est = est.drop('date_calc', axis = 1)\n",
    "    X_train = pd.concat([est, obs])\n",
    "    X_train = X_train.reset_index(drop=True)\n",
    "    \n",
    "    return X_train\n",
    "\n",
    "def add_location(data, location):\n",
    "    \"\"\"\n",
    "    Adds a categorical feature \"location\" equal to the input string location.\n",
    "    \"\"\"\n",
    "    loc = [location] * len(data)\n",
    "    data['location'] = loc\n",
    "    data['location'] = data['location'].astype('category')\n",
    "\n",
    "\n",
    "def match_X_Y(X,Y):\n",
    "    \"\"\" \n",
    "    date_forecast and time must be unique!\n",
    "    Matches the timestamps of X to the timestamps of Y. \n",
    "    Makes sure that the length of X and Y are equal.\n",
    "    \"\"\"\n",
    "    Y = Y.dropna()\n",
    "    X = X.rename(columns={'date_forecast': 'time'})\n",
    "    merge_df = Y.merge(X, on=\"time\", how='inner')\n",
    "    Y = merge_df['pv_measurement']\n",
    "    X = merge_df.drop(columns = ['pv_measurement'])\n",
    "    return X,Y\n"
   ]
  },
  {
   "cell_type": "code",
   "execution_count": 846,
   "metadata": {},
   "outputs": [],
   "source": [
    "\n",
    "\n",
    "\n",
    "X_train_a = combine_obs_est(X_train_estimated_a, X_train_observed_a, type)\n",
    "X_train_b = combine_obs_est(X_train_estimated_b, X_train_observed_b, type)\n",
    "X_train_c = combine_obs_est(X_train_estimated_c, X_train_observed_c, type)\n",
    "\n",
    "\n",
    "if location:\n",
    "    add_location(X_train_a, 'a')\n",
    "    add_location(X_train_b, 'b')\n",
    "    add_location(X_train_c, 'c')\n",
    "\n",
    "X_a, Y_a = match_X_Y(X_train_a, train_a)\n",
    "X_b, Y_b = match_X_Y(X_train_b, train_b)\n",
    "X_c, Y_c = match_X_Y(X_train_c, train_c)\n",
    "\n",
    "Y_train = pd.concat([Y_a, Y_b, Y_c])\n",
    "Y_train = Y_train.reset_index(drop=True)\n",
    "\n",
    "X_train = pd.concat([X_a, X_b,X_c])\n",
    "X_train = X_train.rename(columns={'date_forecast': 'time'})\n",
    "if subset_select:\n",
    "    X_train = X_train[selected_features_obs]\n",
    "X_train = X_train.sort_values(by='time')\n",
    "X_train = X_train.reset_index(drop=True)\n",
    "X_train = X_train.drop('time', axis=1)\n"
   ]
  },
  {
   "cell_type": "code",
   "execution_count": 847,
   "metadata": {},
   "outputs": [],
   "source": [
    "#Test X data\n",
    "if location:\n",
    "    add_location(X_test_estimated_a, 'a')\n",
    "    add_location(X_test_estimated_b, 'b')\n",
    "    add_location(X_test_estimated_c, 'c')\n",
    "if type:\n",
    "    add_type(X_test_estimated_a, 'est')\n",
    "    add_type(X_test_estimated_b, 'est')\n",
    "    add_type(X_test_estimated_c, 'est')\n",
    "\n",
    "\n",
    "\n",
    "X_test = pd.concat([X_test_estimated_a, X_test_estimated_b,X_test_estimated_c])\n",
    "\n",
    "X_test = X_test.rename(columns={'date_forecast': 'time'})\n",
    "if subset_select:\n",
    "    X_test = X_test[selected_features_obs]\n",
    "X_test = X_test.sort_values(by='time')\n",
    "X_test = X_test.drop('time', axis=1)\n",
    "\n"
   ]
  },
  {
   "cell_type": "code",
   "execution_count": 848,
   "metadata": {},
   "outputs": [],
   "source": [
    "# normalize = True\n",
    "# if normalize:\n",
    "#     d = preprocessing.normalize(X_train, axis=0)\n",
    "#     X_train = pd.DataFrame(d, columns=X_train.columns)\n",
    "#     d = preprocessing.normalize(X_test, axis=0)\n",
    "#     X_test = pd.DataFrame(d, columns=X_test.columns)\n",
    "    "
   ]
  },
  {
   "cell_type": "markdown",
   "metadata": {},
   "source": [
    "### Final steps"
   ]
  },
  {
   "cell_type": "code",
   "execution_count": 849,
   "metadata": {},
   "outputs": [],
   "source": [
    "# train_pool = cb.Pool(\n",
    "#     X_train,\n",
    "#     Y_train,\n",
    "#     cat_features = ['location']\n",
    "# )\n",
    "# test_pool = cb.Pool(\n",
    "#     X_test,\n",
    "#     cat_features = ['location']\n",
    "# )\n",
    "train_pool = cb.Pool(\n",
    "    X_train,\n",
    "    Y_train\n",
    ")\n",
    "test_pool = cb.Pool(\n",
    "    X_test\n",
    ")\n",
    "\n",
    "model = cb.CatBoostRegressor(\n",
    "    iterations = 100,\n",
    "    depth =2,\n",
    "    learning_rate =1,\n",
    "    loss_function ='RMSE',\n",
    ")\n"
   ]
  },
  {
   "cell_type": "code",
   "execution_count": 850,
   "metadata": {},
   "outputs": [
    {
     "name": "stdout",
     "output_type": "stream",
     "text": [
      "0:\tlearn: 764.5734933\ttotal: 32.1ms\tremaining: 3.18s\n",
      "1:\tlearn: 763.7414799\ttotal: 42.2ms\tremaining: 2.07s\n",
      "2:\tlearn: 763.5796150\ttotal: 46.7ms\tremaining: 1.51s\n",
      "3:\tlearn: 763.3544056\ttotal: 50.2ms\tremaining: 1.21s\n",
      "4:\tlearn: 763.2258935\ttotal: 54ms\tremaining: 1.03s\n",
      "5:\tlearn: 762.9986707\ttotal: 60.4ms\tremaining: 947ms\n",
      "6:\tlearn: 762.9024186\ttotal: 65ms\tremaining: 864ms\n",
      "7:\tlearn: 762.7574538\ttotal: 68.3ms\tremaining: 785ms\n",
      "8:\tlearn: 762.6787723\ttotal: 74.5ms\tremaining: 754ms\n",
      "9:\tlearn: 762.6412102\ttotal: 80ms\tremaining: 720ms\n",
      "10:\tlearn: 762.6245320\ttotal: 83.5ms\tremaining: 676ms\n",
      "11:\tlearn: 762.5893098\ttotal: 88.4ms\tremaining: 648ms\n",
      "12:\tlearn: 762.5624051\ttotal: 94.8ms\tremaining: 634ms\n",
      "13:\tlearn: 762.4607764\ttotal: 99.8ms\tremaining: 613ms\n",
      "14:\tlearn: 762.4052142\ttotal: 105ms\tremaining: 595ms\n",
      "15:\tlearn: 762.3378905\ttotal: 111ms\tremaining: 585ms\n",
      "16:\tlearn: 762.2371664\ttotal: 115ms\tremaining: 562ms\n",
      "17:\tlearn: 762.1626091\ttotal: 120ms\tremaining: 547ms\n",
      "18:\tlearn: 762.1193335\ttotal: 124ms\tremaining: 529ms\n",
      "19:\tlearn: 762.0492892\ttotal: 127ms\tremaining: 508ms\n",
      "20:\tlearn: 761.9933074\ttotal: 132ms\tremaining: 496ms\n",
      "21:\tlearn: 761.9629213\ttotal: 136ms\tremaining: 484ms\n",
      "22:\tlearn: 761.8966017\ttotal: 141ms\tremaining: 473ms\n",
      "23:\tlearn: 761.8367421\ttotal: 146ms\tremaining: 462ms\n",
      "24:\tlearn: 761.7867752\ttotal: 151ms\tremaining: 454ms\n",
      "25:\tlearn: 761.7398204\ttotal: 156ms\tremaining: 443ms\n",
      "26:\tlearn: 761.7022814\ttotal: 160ms\tremaining: 432ms\n",
      "27:\tlearn: 761.6473365\ttotal: 164ms\tremaining: 423ms\n",
      "28:\tlearn: 761.6068526\ttotal: 169ms\tremaining: 414ms\n",
      "29:\tlearn: 761.5779174\ttotal: 174ms\tremaining: 406ms\n",
      "30:\tlearn: 761.5268837\ttotal: 179ms\tremaining: 398ms\n",
      "31:\tlearn: 761.4795003\ttotal: 183ms\tremaining: 390ms\n",
      "32:\tlearn: 761.4346499\ttotal: 188ms\tremaining: 381ms\n",
      "33:\tlearn: 761.3866167\ttotal: 191ms\tremaining: 371ms\n",
      "34:\tlearn: 761.3702038\ttotal: 196ms\tremaining: 364ms\n",
      "35:\tlearn: 761.3407798\ttotal: 200ms\tremaining: 356ms\n",
      "36:\tlearn: 761.3021860\ttotal: 204ms\tremaining: 347ms\n",
      "37:\tlearn: 761.2740346\ttotal: 208ms\tremaining: 339ms\n",
      "38:\tlearn: 761.2425647\ttotal: 211ms\tremaining: 330ms\n",
      "39:\tlearn: 761.1919025\ttotal: 217ms\tremaining: 326ms\n",
      "40:\tlearn: 761.1323246\ttotal: 221ms\tremaining: 318ms\n",
      "41:\tlearn: 761.0857680\ttotal: 225ms\tremaining: 311ms\n"
     ]
    },
    {
     "name": "stdout",
     "output_type": "stream",
     "text": [
      "42:\tlearn: 761.0649447\ttotal: 229ms\tremaining: 304ms\n",
      "43:\tlearn: 761.0491647\ttotal: 234ms\tremaining: 298ms\n",
      "44:\tlearn: 761.0155306\ttotal: 239ms\tremaining: 292ms\n",
      "45:\tlearn: 760.9850471\ttotal: 243ms\tremaining: 285ms\n",
      "46:\tlearn: 760.9466352\ttotal: 248ms\tremaining: 279ms\n",
      "47:\tlearn: 760.8835708\ttotal: 253ms\tremaining: 274ms\n",
      "48:\tlearn: 760.8446818\ttotal: 257ms\tremaining: 267ms\n",
      "49:\tlearn: 760.8255044\ttotal: 262ms\tremaining: 262ms\n",
      "50:\tlearn: 760.7984306\ttotal: 266ms\tremaining: 256ms\n",
      "51:\tlearn: 760.7379426\ttotal: 270ms\tremaining: 249ms\n",
      "52:\tlearn: 760.7159644\ttotal: 273ms\tremaining: 242ms\n",
      "53:\tlearn: 760.6733596\ttotal: 277ms\tremaining: 236ms\n",
      "54:\tlearn: 760.6453112\ttotal: 281ms\tremaining: 230ms\n",
      "55:\tlearn: 760.6009835\ttotal: 285ms\tremaining: 224ms\n",
      "56:\tlearn: 760.5594762\ttotal: 288ms\tremaining: 217ms\n",
      "57:\tlearn: 760.5237057\ttotal: 292ms\tremaining: 211ms\n",
      "58:\tlearn: 760.4939179\ttotal: 296ms\tremaining: 206ms\n",
      "59:\tlearn: 760.4629625\ttotal: 299ms\tremaining: 199ms\n",
      "60:\tlearn: 760.4391214\ttotal: 303ms\tremaining: 194ms\n",
      "61:\tlearn: 760.4092668\ttotal: 306ms\tremaining: 188ms\n",
      "62:\tlearn: 760.3846891\ttotal: 310ms\tremaining: 182ms\n",
      "63:\tlearn: 760.3763199\ttotal: 314ms\tremaining: 176ms\n",
      "64:\tlearn: 760.3590281\ttotal: 317ms\tremaining: 171ms\n",
      "65:\tlearn: 760.3339867\ttotal: 321ms\tremaining: 165ms\n",
      "66:\tlearn: 760.3071450\ttotal: 326ms\tremaining: 161ms\n",
      "67:\tlearn: 760.2776309\ttotal: 330ms\tremaining: 155ms\n",
      "68:\tlearn: 760.2596363\ttotal: 333ms\tremaining: 150ms\n",
      "69:\tlearn: 760.2251707\ttotal: 336ms\tremaining: 144ms\n",
      "70:\tlearn: 760.2129941\ttotal: 340ms\tremaining: 139ms\n",
      "71:\tlearn: 760.1898526\ttotal: 344ms\tremaining: 134ms\n",
      "72:\tlearn: 760.1663220\ttotal: 347ms\tremaining: 128ms\n",
      "73:\tlearn: 760.1414589\ttotal: 351ms\tremaining: 123ms\n",
      "74:\tlearn: 760.1249945\ttotal: 355ms\tremaining: 118ms\n",
      "75:\tlearn: 760.1075448\ttotal: 359ms\tremaining: 113ms\n",
      "76:\tlearn: 760.0947151\ttotal: 363ms\tremaining: 108ms\n",
      "77:\tlearn: 760.0759217\ttotal: 366ms\tremaining: 103ms\n",
      "78:\tlearn: 760.0547681\ttotal: 369ms\tremaining: 98.1ms\n",
      "79:\tlearn: 760.0399701\ttotal: 374ms\tremaining: 93.4ms\n",
      "80:\tlearn: 760.0165283\ttotal: 379ms\tremaining: 88.9ms\n",
      "81:\tlearn: 759.9873607\ttotal: 382ms\tremaining: 84ms\n",
      "82:\tlearn: 759.9714554\ttotal: 387ms\tremaining: 79.2ms\n",
      "83:\tlearn: 759.9421819\ttotal: 390ms\tremaining: 74.4ms\n",
      "84:\tlearn: 759.9271999\ttotal: 394ms\tremaining: 69.5ms\n",
      "85:\tlearn: 759.9041551\ttotal: 396ms\tremaining: 64.5ms\n",
      "86:\tlearn: 759.8740893\ttotal: 399ms\tremaining: 59.7ms\n",
      "87:\tlearn: 759.8525562\ttotal: 402ms\tremaining: 54.9ms\n",
      "88:\tlearn: 759.8342583\ttotal: 406ms\tremaining: 50.1ms\n",
      "89:\tlearn: 759.8130012\ttotal: 409ms\tremaining: 45.4ms\n",
      "90:\tlearn: 759.7982433\ttotal: 412ms\tremaining: 40.7ms\n",
      "91:\tlearn: 759.7858927\ttotal: 415ms\tremaining: 36ms\n",
      "92:\tlearn: 759.7769186\ttotal: 417ms\tremaining: 31.4ms\n",
      "93:\tlearn: 759.7605427\ttotal: 421ms\tremaining: 26.8ms\n",
      "94:\tlearn: 759.7402959\ttotal: 423ms\tremaining: 22.3ms\n",
      "95:\tlearn: 759.7249695\ttotal: 427ms\tremaining: 17.8ms\n",
      "96:\tlearn: 759.7098570\ttotal: 430ms\tremaining: 13.3ms\n",
      "97:\tlearn: 759.6869618\ttotal: 433ms\tremaining: 8.83ms\n",
      "98:\tlearn: 759.6708013\ttotal: 436ms\tremaining: 4.41ms\n",
      "99:\tlearn: 759.6368376\ttotal: 440ms\tremaining: 0us\n"
     ]
    }
   ],
   "source": [
    "#train the model\n",
    "model.fit(train_pool)\n",
    "# make the prediction using the resulting model\n",
    "preds = model.predict(test_pool)\n",
    "# print(preds)"
   ]
  },
  {
   "cell_type": "code",
   "execution_count": 851,
   "metadata": {},
   "outputs": [
    {
     "data": {
      "text/plain": [
       "(2160, 2)"
      ]
     },
     "execution_count": 851,
     "metadata": {},
     "output_type": "execute_result"
    }
   ],
   "source": [
    "X_test.shape"
   ]
  },
  {
   "cell_type": "code",
   "execution_count": 852,
   "metadata": {},
   "outputs": [
    {
     "data": {
      "text/plain": [
       "array([287.20939056, 287.20939056, 211.6961093 , ..., 208.64330796,\n",
       "       208.64330796, 208.64330796])"
      ]
     },
     "execution_count": 852,
     "metadata": {},
     "output_type": "execute_result"
    }
   ],
   "source": [
    "# preds.shape, y_test[\"pv_measurement\"].shape\n",
    "\n",
    "# mean_absolute_error(preds, y_test)\n",
    "\n",
    "preds.shape\n",
    "preds"
   ]
  },
  {
   "cell_type": "code",
   "execution_count": 853,
   "metadata": {},
   "outputs": [
    {
     "data": {
      "text/plain": [
       "[<matplotlib.lines.Line2D at 0x130327a30>]"
      ]
     },
     "execution_count": 853,
     "metadata": {},
     "output_type": "execute_result"
    },
    {
     "data": {
      "image/png": "[encoded data removed]",
      "text/plain": [
       "<Figure size 640x480 with 1 Axes>"
      ]
     },
     "metadata": {},
     "output_type": "display_data"
    }
   ],
   "source": [
    "plt.plot(preds)\n",
    "# plt.plot(Y_train)"
   ]
  },
  {
   "cell_type": "code",
   "execution_count": 854,
   "metadata": {},
   "outputs": [],
   "source": [
    "def pred_to_delivery(preds, filename):\n",
    "    data = {'prediction':preds}\n",
    "    sub = pd.DataFrame(data = data)\n",
    "    sub = sub.reset_index()\n",
    "    sub = sub.rename(columns={'index': 'id'})\n",
    "    sub.to_csv(filename, index=False)"
   ]
  },
  {
   "cell_type": "code",
   "execution_count": 855,
   "metadata": {},
   "outputs": [],
   "source": [
    "# pred_to_delivery(preds, 'naive_catboost_3.csv')"
   ]
  }
 ],
 "metadata": {
  "kernelspec": {
   "display_name": ".venv",
   "language": "python",
   "name": "python3"
  },
  "language_info": {
   "codemirror_mode": {
    "name": "ipython",
    "version": 3
   },
   "file_extension": ".py",
   "mimetype": "text/x-python",
   "name": "python",
   "nbconvert_exporter": "python",
   "pygments_lexer": "ipython3",
   "version": "3.10.7"
  }
 },
 "nbformat": 4,
 "nbformat_minor": 2
}
